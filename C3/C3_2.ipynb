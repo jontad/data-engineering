{
 "cells": [
  {
   "cell_type": "code",
   "execution_count": 1,
   "id": "0c6f1380-ad96-447b-baf8-e4027bb832c2",
   "metadata": {},
   "outputs": [
    {
     "data": {
      "text/plain": [
       "RayContext(dashboard_url='127.0.0.1:8265', python_version='3.8.10', ray_version='1.12.0', ray_commit='f18fc31c7562990955556899090f8e8656b48d2d', address_info={'node_ip_address': '192.168.2.233', 'raylet_ip_address': '192.168.2.233', 'redis_address': None, 'object_store_address': '/tmp/ray/session_2022-05-12_13-56-03_219307_916984/sockets/plasma_store', 'raylet_socket_name': '/tmp/ray/session_2022-05-12_13-56-03_219307_916984/sockets/raylet', 'webui_url': '127.0.0.1:8265', 'session_dir': '/tmp/ray/session_2022-05-12_13-56-03_219307_916984', 'metrics_export_port': 64671, 'gcs_address': '192.168.2.233:6379', 'address': '192.168.2.233:6379', 'node_id': '98cd0ff4b6126c06e2e7afb8030b5c048f70317a15218b04e73697ac'})"
      ]
     },
     "execution_count": 1,
     "metadata": {},
     "output_type": "execute_result"
    }
   ],
   "source": [
    "import ray\n",
    "ray.init(address=\"localhost:6379\")"
   ]
  },
  {
   "cell_type": "code",
   "execution_count": 2,
   "id": "d5844e1b-962a-47f8-a16b-c4a3337f347e",
   "metadata": {},
   "outputs": [],
   "source": [
    "import numpy as np\n",
    "import pandas as pd\n",
    "import sklearn\n",
    "\n",
    "import tune_sklearn"
   ]
  },
  {
   "cell_type": "code",
   "execution_count": 3,
   "id": "646d24ff-6cf6-411b-94bd-1027413e8d2c",
   "metadata": {},
   "outputs": [],
   "source": [
    "from sklearn.datasets import fetch_covtype\n",
    "\n",
    "forest = fetch_covtype()"
   ]
  },
  {
   "cell_type": "code",
   "execution_count": 4,
   "id": "de4fa1bc-6529-48e5-82b3-c7d15858cdd7",
   "metadata": {},
   "outputs": [],
   "source": [
    "from sklearn.model_selection import train_test_split\n",
    "\n",
    "N = 10000\n",
    "features = forest['data'][:N]\n",
    "labels = forest['target'][:N]\n",
    "\n",
    "X_train, X_test, y_train, y_test = train_test_split(\n",
    "     features, labels, train_size=0.75, test_size=0.25\n",
    ")"
   ]
  },
  {
   "cell_type": "code",
   "execution_count": 5,
   "id": "ba7ba391-6012-4a6c-873b-5ed25ffc8e15",
   "metadata": {},
   "outputs": [],
   "source": [
    "from sklearn.ensemble import RandomForestClassifier\n",
    "from tune_sklearn import TuneGridSearchCV\n",
    "\n",
    "clf = RandomForestClassifier()\n",
    "param_grid = { \n",
    "    'n_estimators': [200, 500],\n",
    "    'max_depth' : [4,5,6,7,8],\n",
    "    'ccp_alpha': [0,0.2,0.4,0.6,0.8,1]\n",
    "}\n",
    "\n",
    "tune_search = TuneGridSearchCV(\n",
    "    estimator=clf,\n",
    "    param_grid=param_grid\n",
    ")"
   ]
  },
  {
   "cell_type": "code",
   "execution_count": 6,
   "id": "f6ff29cf-015f-43f0-833f-7cbc1aa11cd3",
   "metadata": {},
   "outputs": [
    {
     "name": "stderr",
     "output_type": "stream",
     "text": [
      "2022-05-12 13:56:42,562\tINFO trial_runner.py:803 -- starting _Trainable_596cb_00000\n",
      "2022-05-12 13:56:43,374\tINFO trial_runner.py:803 -- starting _Trainable_596cb_00001\n",
      "2022-05-12 13:56:50,040\tINFO trial_runner.py:803 -- starting _Trainable_596cb_00002\n",
      "2022-05-12 13:56:51,025\tINFO trial_runner.py:803 -- starting _Trainable_596cb_00003\n",
      "2022-05-12 13:56:54,988\tINFO trial_runner.py:803 -- starting _Trainable_596cb_00004\n",
      "2022-05-12 13:56:55,823\tINFO trial_runner.py:803 -- starting _Trainable_596cb_00005\n",
      "2022-05-12 13:56:59,866\tINFO trial_runner.py:803 -- starting _Trainable_596cb_00006\n",
      "2022-05-12 13:57:00,648\tINFO trial_runner.py:803 -- starting _Trainable_596cb_00007\n",
      "2022-05-12 13:57:05,221\tINFO trial_runner.py:803 -- starting _Trainable_596cb_00008\n",
      "2022-05-12 13:57:05,944\tINFO trial_runner.py:803 -- starting _Trainable_596cb_00009\n",
      "2022-05-12 13:57:10,628\tINFO trial_runner.py:803 -- starting _Trainable_596cb_00010\n",
      "2022-05-12 13:57:11,169\tINFO trial_runner.py:803 -- starting _Trainable_596cb_00011\n",
      "2022-05-12 13:57:16,081\tINFO trial_runner.py:803 -- starting _Trainable_596cb_00012\n",
      "2022-05-12 13:57:16,470\tINFO trial_runner.py:803 -- starting _Trainable_596cb_00013\n",
      "2022-05-12 13:57:21,809\tINFO trial_runner.py:803 -- starting _Trainable_596cb_00014\n",
      "2022-05-12 13:57:22,318\tINFO trial_runner.py:803 -- starting _Trainable_596cb_00015\n",
      "2022-05-12 13:57:27,749\tINFO trial_runner.py:803 -- starting _Trainable_596cb_00016\n",
      "2022-05-12 13:57:28,110\tINFO trial_runner.py:803 -- starting _Trainable_596cb_00017\n",
      "2022-05-12 13:57:33,562\tINFO trial_runner.py:803 -- starting _Trainable_596cb_00018\n",
      "2022-05-12 13:57:33,906\tINFO trial_runner.py:803 -- starting _Trainable_596cb_00019\n",
      "2022-05-12 13:57:39,999\tINFO trial_runner.py:803 -- starting _Trainable_596cb_00020\n",
      "2022-05-12 13:57:40,352\tINFO trial_runner.py:803 -- starting _Trainable_596cb_00021\n",
      "2022-05-12 13:57:46,429\tINFO trial_runner.py:803 -- starting _Trainable_596cb_00022\n",
      "2022-05-12 13:57:46,725\tINFO trial_runner.py:803 -- starting _Trainable_596cb_00023\n",
      "2022-05-12 13:57:52,898\tINFO trial_runner.py:803 -- starting _Trainable_596cb_00024\n",
      "2022-05-12 13:57:53,043\tINFO trial_runner.py:803 -- starting _Trainable_596cb_00025\n",
      "2022-05-12 13:57:59,682\tINFO trial_runner.py:803 -- starting _Trainable_596cb_00026\n",
      "2022-05-12 13:57:59,992\tINFO trial_runner.py:803 -- starting _Trainable_596cb_00027\n",
      "2022-05-12 13:58:06,574\tINFO trial_runner.py:803 -- starting _Trainable_596cb_00028\n",
      "2022-05-12 13:58:07,000\tINFO trial_runner.py:803 -- starting _Trainable_596cb_00029\n",
      "2022-05-12 13:58:13,475\tINFO trial_runner.py:803 -- starting _Trainable_596cb_00030\n",
      "2022-05-12 13:58:13,958\tINFO trial_runner.py:803 -- starting _Trainable_596cb_00031\n",
      "2022-05-12 13:58:25,097\tINFO trial_runner.py:803 -- starting _Trainable_596cb_00032\n",
      "2022-05-12 13:58:26,209\tINFO trial_runner.py:803 -- starting _Trainable_596cb_00033\n",
      "2022-05-12 13:58:37,042\tINFO trial_runner.py:803 -- starting _Trainable_596cb_00034\n",
      "2022-05-12 13:58:38,265\tINFO trial_runner.py:803 -- starting _Trainable_596cb_00035\n",
      "2022-05-12 13:58:49,150\tINFO trial_runner.py:803 -- starting _Trainable_596cb_00036\n",
      "2022-05-12 13:58:50,390\tINFO trial_runner.py:803 -- starting _Trainable_596cb_00037\n",
      "2022-05-12 13:59:02,468\tINFO trial_runner.py:803 -- starting _Trainable_596cb_00038\n",
      "2022-05-12 13:59:03,405\tINFO trial_runner.py:803 -- starting _Trainable_596cb_00039\n",
      "2022-05-12 13:59:15,888\tINFO trial_runner.py:803 -- starting _Trainable_596cb_00040\n",
      "2022-05-12 13:59:16,691\tINFO trial_runner.py:803 -- starting _Trainable_596cb_00041\n",
      "2022-05-12 13:59:29,201\tINFO trial_runner.py:803 -- starting _Trainable_596cb_00042\n",
      "2022-05-12 13:59:29,919\tINFO trial_runner.py:803 -- starting _Trainable_596cb_00043\n",
      "2022-05-12 13:59:43,314\tINFO trial_runner.py:803 -- starting _Trainable_596cb_00044\n",
      "2022-05-12 13:59:44,800\tINFO trial_runner.py:803 -- starting _Trainable_596cb_00045\n",
      "2022-05-12 13:59:58,097\tINFO trial_runner.py:803 -- starting _Trainable_596cb_00046\n",
      "2022-05-12 13:59:59,267\tINFO trial_runner.py:803 -- starting _Trainable_596cb_00047\n",
      "2022-05-12 14:00:12,752\tINFO trial_runner.py:803 -- starting _Trainable_596cb_00048\n",
      "2022-05-12 14:00:13,652\tINFO trial_runner.py:803 -- starting _Trainable_596cb_00049\n",
      "2022-05-12 14:00:28,476\tINFO trial_runner.py:803 -- starting _Trainable_596cb_00050\n",
      "2022-05-12 14:00:29,497\tINFO trial_runner.py:803 -- starting _Trainable_596cb_00051\n",
      "2022-05-12 14:00:44,462\tINFO trial_runner.py:803 -- starting _Trainable_596cb_00052\n",
      "2022-05-12 14:00:45,298\tINFO trial_runner.py:803 -- starting _Trainable_596cb_00053\n",
      "2022-05-12 14:01:00,256\tINFO trial_runner.py:803 -- starting _Trainable_596cb_00054\n",
      "2022-05-12 14:01:01,347\tINFO trial_runner.py:803 -- starting _Trainable_596cb_00055\n",
      "2022-05-12 14:01:17,171\tINFO trial_runner.py:803 -- starting _Trainable_596cb_00056\n",
      "2022-05-12 14:01:18,587\tINFO trial_runner.py:803 -- starting _Trainable_596cb_00057\n",
      "2022-05-12 14:01:34,569\tINFO trial_runner.py:803 -- starting _Trainable_596cb_00058\n",
      "2022-05-12 14:01:35,699\tINFO trial_runner.py:803 -- starting _Trainable_596cb_00059\n"
     ]
    },
    {
     "name": "stdout",
     "output_type": "stream",
     "text": [
      "Tune Fit Time: 314.3112018108368\n",
      "Tune Accuracy: 0.7604\n"
     ]
    }
   ],
   "source": [
    "import time \n",
    "\n",
    "start = time.time()\n",
    "tune_search.fit(X_train, y_train)\n",
    "end = time.time()\n",
    "print(\"Tune Fit Time:\", end - start)\n",
    "\n",
    "pred = tune_search.predict(X_test)\n",
    "accuracy = np.count_nonzero(np.array(pred) == np.array(y_test)) / len(pred)\n",
    "print(\"Tune Accuracy:\", accuracy)"
   ]
  },
  {
   "cell_type": "code",
   "execution_count": 7,
   "id": "f5c6bca7-3734-4aff-a3d1-9a2fdacf92c3",
   "metadata": {},
   "outputs": [
    {
     "data": {
      "text/plain": [
       "{'n_estimators': 200, 'max_depth': 8, 'ccp_alpha': 0}"
      ]
     },
     "execution_count": 7,
     "metadata": {},
     "output_type": "execute_result"
    }
   ],
   "source": [
    "tune_search.best_params_"
   ]
  }
 ],
 "metadata": {
  "kernelspec": {
   "display_name": "Python 3 (ipykernel)",
   "language": "python",
   "name": "python3"
  },
  "language_info": {
   "codemirror_mode": {
    "name": "ipython",
    "version": 3
   },
   "file_extension": ".py",
   "mimetype": "text/x-python",
   "name": "python",
   "nbconvert_exporter": "python",
   "pygments_lexer": "ipython3",
   "version": "3.8.10"
  }
 },
 "nbformat": 4,
 "nbformat_minor": 5
}
