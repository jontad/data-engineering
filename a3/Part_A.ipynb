{
 "cells": [
  {
   "cell_type": "code",
   "execution_count": 1,
   "id": "200fa780-1caf-402f-8684-ddcb5f8635ac",
   "metadata": {},
   "outputs": [
    {
     "name": "stderr",
     "output_type": "stream",
     "text": [
      "Using Spark's default log4j profile: org/apache/spark/log4j-defaults.properties\n",
      "Setting default log level to \"WARN\".\n",
      "To adjust logging level use sc.setLogLevel(newLevel). For SparkR, use setLogLevel(newLevel).\n",
      "22/03/02 21:19:10 WARN NativeCodeLoader: Unable to load native-hadoop library for your platform... using builtin-java classes where applicable\n",
      "22/03/02 21:19:13 WARN ExecutorAllocationManager: Dynamic allocation without a shuffle service is an experimental feature.\n"
     ]
    }
   ],
   "source": [
    "from pyspark.sql import SparkSession\n",
    "from operator import add\n",
    "\n",
    "# New API\n",
    "spark_session = SparkSession\\\n",
    "        .builder\\\n",
    "        .master(\"spark://192.168.2.119:7077\") \\\n",
    "        .appName(\"Jonathan-A.1\")\\\n",
    "        .config(\"spark.executor.cores\",2)\\\n",
    "        .config(\"spark.dynamicAllocation.enabled\", True)\\\n",
    "        .config(\"spark.dynamicAllocation.shuffleTracking.enabled\", True)\\\n",
    "        .config(\"spark.shuffle.service.enabled\", False)\\\n",
    "        .config(\"spark.dynamicAllocation.executorIdleTimeout\",\"30s\")\\\n",
    "        .config(\"spark.driver.port\",9998)\\\n",
    "        .config(\"spark.blockManager.port\",10005)\\\n",
    "        .getOrCreate()\n",
    "\n",
    "# Old API (RDD)\n",
    "spark_context = spark_session.sparkContext\n",
    "\n",
    "spark_context.setLogLevel(\"ERROR\")"
   ]
  },
  {
   "cell_type": "code",
   "execution_count": 2,
   "id": "71a2e44c-fe6b-49ab-a03f-9f5b440b54e4",
   "metadata": {},
   "outputs": [],
   "source": [
    "# A.1.1 \n",
    "# A.1.2\n",
    "lines_eng = spark_context.textFile(\"hdfs://192.168.2.119:9000/europarl/europarl-v7.sv-en.en\")\n",
    "lines_sv = spark_context.textFile(\"hdfs://192.168.2.119:9000/europarl/europarl-v7.sv-en.sv\")"
   ]
  },
  {
   "cell_type": "code",
   "execution_count": 3,
   "id": "8864f55c-281d-494a-89b5-12fc0074183f",
   "metadata": {},
   "outputs": [
    {
     "name": "stderr",
     "output_type": "stream",
     "text": [
      "[Stage 1:=======================================>                   (2 + 1) / 3]\r"
     ]
    },
    {
     "name": "stdout",
     "output_type": "stream",
     "text": [
      "ENG Count: 1862234\n",
      "SWE Count: 1862234\n",
      "Difference: 0\n"
     ]
    },
    {
     "name": "stderr",
     "output_type": "stream",
     "text": [
      "                                                                                \r"
     ]
    }
   ],
   "source": [
    "eng_count = lines_eng.count()\n",
    "sv_count = lines_sv.count()\n",
    "\n",
    "print(\"ENG Count: \" + str(eng_count))\n",
    "print(\"SWE Count: \" + str(sv_count))\n",
    "# A.1.3\n",
    "print(\"Difference: \" + str(sv_count - eng_count))"
   ]
  },
  {
   "cell_type": "code",
   "execution_count": 4,
   "id": "73c8794b-cf36-4e9c-85ad-76c86fdfa40f",
   "metadata": {},
   "outputs": [
    {
     "name": "stdout",
     "output_type": "stream",
     "text": [
      "SWE Partitions: 3\n",
      "ENG Partitions: 2\n"
     ]
    }
   ],
   "source": [
    "# A.1.4\n",
    "print(\"SWE Partitions: \" + str(lines_sv.getNumPartitions()))\n",
    "print(\"ENG Partitions: \" + str(lines_eng.getNumPartitions()))"
   ]
  },
  {
   "cell_type": "code",
   "execution_count": 5,
   "id": "f8c9b632-ee66-4b8d-8698-a74d3f838347",
   "metadata": {},
   "outputs": [],
   "source": [
    "# A.2.1\n",
    "def preprocess(lines):\n",
    "    processed = lines.map(lambda line: line.lower())\n",
    "    processed = processed.map(lambda line: line.split(' '))\n",
    "    \n",
    "    \n",
    "    return processed"
   ]
  },
  {
   "cell_type": "code",
   "execution_count": 6,
   "id": "88ae5f9c-7772-4b7f-a3c7-796dd0a5c282",
   "metadata": {},
   "outputs": [],
   "source": [
    "eng_processed = preprocess(lines_eng)\n",
    "sv_processed = preprocess(lines_sv)"
   ]
  },
  {
   "cell_type": "code",
   "execution_count": 7,
   "id": "ff9423cc-5cb9-42ab-a8af-44b893d0d111",
   "metadata": {},
   "outputs": [
    {
     "data": {
      "text/plain": [
       "[['resumption', 'of', 'the', 'session'],\n",
       " ['i',\n",
       "  'declare',\n",
       "  'resumed',\n",
       "  'the',\n",
       "  'session',\n",
       "  'of',\n",
       "  'the',\n",
       "  'european',\n",
       "  'parliament',\n",
       "  'adjourned',\n",
       "  'on',\n",
       "  'friday',\n",
       "  '17',\n",
       "  'december',\n",
       "  '1999,',\n",
       "  'and',\n",
       "  'i',\n",
       "  'would',\n",
       "  'like',\n",
       "  'once',\n",
       "  'again',\n",
       "  'to',\n",
       "  'wish',\n",
       "  'you',\n",
       "  'a',\n",
       "  'happy',\n",
       "  'new',\n",
       "  'year',\n",
       "  'in',\n",
       "  'the',\n",
       "  'hope',\n",
       "  'that',\n",
       "  'you',\n",
       "  'enjoyed',\n",
       "  'a',\n",
       "  'pleasant',\n",
       "  'festive',\n",
       "  'period.'],\n",
       " ['although,',\n",
       "  'as',\n",
       "  'you',\n",
       "  'will',\n",
       "  'have',\n",
       "  'seen,',\n",
       "  'the',\n",
       "  'dreaded',\n",
       "  \"'millennium\",\n",
       "  \"bug'\",\n",
       "  'failed',\n",
       "  'to',\n",
       "  'materialise,',\n",
       "  'still',\n",
       "  'the',\n",
       "  'people',\n",
       "  'in',\n",
       "  'a',\n",
       "  'number',\n",
       "  'of',\n",
       "  'countries',\n",
       "  'suffered',\n",
       "  'a',\n",
       "  'series',\n",
       "  'of',\n",
       "  'natural',\n",
       "  'disasters',\n",
       "  'that',\n",
       "  'truly',\n",
       "  'were',\n",
       "  'dreadful.'],\n",
       " ['you',\n",
       "  'have',\n",
       "  'requested',\n",
       "  'a',\n",
       "  'debate',\n",
       "  'on',\n",
       "  'this',\n",
       "  'subject',\n",
       "  'in',\n",
       "  'the',\n",
       "  'course',\n",
       "  'of',\n",
       "  'the',\n",
       "  'next',\n",
       "  'few',\n",
       "  'days,',\n",
       "  'during',\n",
       "  'this',\n",
       "  'part-session.'],\n",
       " ['in',\n",
       "  'the',\n",
       "  'meantime,',\n",
       "  'i',\n",
       "  'should',\n",
       "  'like',\n",
       "  'to',\n",
       "  'observe',\n",
       "  'a',\n",
       "  \"minute'\",\n",
       "  's',\n",
       "  'silence,',\n",
       "  'as',\n",
       "  'a',\n",
       "  'number',\n",
       "  'of',\n",
       "  'members',\n",
       "  'have',\n",
       "  'requested,',\n",
       "  'on',\n",
       "  'behalf',\n",
       "  'of',\n",
       "  'all',\n",
       "  'the',\n",
       "  'victims',\n",
       "  'concerned,',\n",
       "  'particularly',\n",
       "  'those',\n",
       "  'of',\n",
       "  'the',\n",
       "  'terrible',\n",
       "  'storms,',\n",
       "  'in',\n",
       "  'the',\n",
       "  'various',\n",
       "  'countries',\n",
       "  'of',\n",
       "  'the',\n",
       "  'european',\n",
       "  'union.'],\n",
       " ['please', 'rise,', 'then,', 'for', 'this', \"minute'\", 's', 'silence.'],\n",
       " ['(the', 'house', 'rose', 'and', 'observed', 'a', \"minute'\", 's', 'silence)'],\n",
       " ['madam', 'president,', 'on', 'a', 'point', 'of', 'order.'],\n",
       " ['you',\n",
       "  'will',\n",
       "  'be',\n",
       "  'aware',\n",
       "  'from',\n",
       "  'the',\n",
       "  'press',\n",
       "  'and',\n",
       "  'television',\n",
       "  'that',\n",
       "  'there',\n",
       "  'have',\n",
       "  'been',\n",
       "  'a',\n",
       "  'number',\n",
       "  'of',\n",
       "  'bomb',\n",
       "  'explosions',\n",
       "  'and',\n",
       "  'killings',\n",
       "  'in',\n",
       "  'sri',\n",
       "  'lanka.'],\n",
       " ['one',\n",
       "  'of',\n",
       "  'the',\n",
       "  'people',\n",
       "  'assassinated',\n",
       "  'very',\n",
       "  'recently',\n",
       "  'in',\n",
       "  'sri',\n",
       "  'lanka',\n",
       "  'was',\n",
       "  'mr',\n",
       "  'kumar',\n",
       "  'ponnambalam,',\n",
       "  'who',\n",
       "  'had',\n",
       "  'visited',\n",
       "  'the',\n",
       "  'european',\n",
       "  'parliament',\n",
       "  'just',\n",
       "  'a',\n",
       "  'few',\n",
       "  'months',\n",
       "  'ago.']]"
      ]
     },
     "execution_count": 7,
     "metadata": {},
     "output_type": "execute_result"
    }
   ],
   "source": [
    "# A.2.2\n",
    "eng_processed.take(10)"
   ]
  },
  {
   "cell_type": "code",
   "execution_count": 8,
   "id": "b2cca577-b340-4334-895b-80ab8def6e29",
   "metadata": {},
   "outputs": [
    {
     "data": {
      "text/plain": [
       "[['återupptagande', 'av', 'sessionen'],\n",
       " ['jag',\n",
       "  'förklarar',\n",
       "  'europaparlamentets',\n",
       "  'session',\n",
       "  'återupptagen',\n",
       "  'efter',\n",
       "  'avbrottet',\n",
       "  'den',\n",
       "  '17',\n",
       "  'december.',\n",
       "  'jag',\n",
       "  'vill',\n",
       "  'på',\n",
       "  'nytt',\n",
       "  'önska',\n",
       "  'er',\n",
       "  'ett',\n",
       "  'gott',\n",
       "  'nytt',\n",
       "  'år',\n",
       "  'och',\n",
       "  'jag',\n",
       "  'hoppas',\n",
       "  'att',\n",
       "  'ni',\n",
       "  'haft',\n",
       "  'en',\n",
       "  'trevlig',\n",
       "  'semester.'],\n",
       " ['som',\n",
       "  'ni',\n",
       "  'kunnat',\n",
       "  'konstatera',\n",
       "  'ägde',\n",
       "  '\"den',\n",
       "  'stora',\n",
       "  'år',\n",
       "  '2000-buggen\"',\n",
       "  'aldrig',\n",
       "  'rum.',\n",
       "  'däremot',\n",
       "  'har',\n",
       "  'invånarna',\n",
       "  'i',\n",
       "  'ett',\n",
       "  'antal',\n",
       "  'av',\n",
       "  'våra',\n",
       "  'medlemsländer',\n",
       "  'drabbats',\n",
       "  'av',\n",
       "  'naturkatastrofer',\n",
       "  'som',\n",
       "  'verkligen',\n",
       "  'varit',\n",
       "  'förskräckliga.'],\n",
       " ['ni',\n",
       "  'har',\n",
       "  'begärt',\n",
       "  'en',\n",
       "  'debatt',\n",
       "  'i',\n",
       "  'ämnet',\n",
       "  'under',\n",
       "  'sammanträdesperiodens',\n",
       "  'kommande',\n",
       "  'dagar.'],\n",
       " ['till',\n",
       "  'dess',\n",
       "  'vill',\n",
       "  'jag',\n",
       "  'att',\n",
       "  'vi,',\n",
       "  'som',\n",
       "  'ett',\n",
       "  'antal',\n",
       "  'kolleger',\n",
       "  'begärt,',\n",
       "  'håller',\n",
       "  'en',\n",
       "  'tyst',\n",
       "  'minut',\n",
       "  'för',\n",
       "  'offren',\n",
       "  'för',\n",
       "  'bl.a.',\n",
       "  'stormarna',\n",
       "  'i',\n",
       "  'de',\n",
       "  'länder',\n",
       "  'i',\n",
       "  'europeiska',\n",
       "  'unionen',\n",
       "  'som',\n",
       "  'drabbats.'],\n",
       " ['jag', 'ber', 'er', 'resa', 'er', 'för', 'en', 'tyst', 'minut.'],\n",
       " ['(parlamentet', 'höll', 'en', 'tyst', 'minut.)'],\n",
       " ['fru', 'talman!', 'det', 'gäller', 'en', 'ordningsfråga.'],\n",
       " ['ni',\n",
       "  'känner',\n",
       "  'till',\n",
       "  'från',\n",
       "  'media',\n",
       "  'att',\n",
       "  'det',\n",
       "  'skett',\n",
       "  'en',\n",
       "  'rad',\n",
       "  'bombexplosioner',\n",
       "  'och',\n",
       "  'mord',\n",
       "  'i',\n",
       "  'sri',\n",
       "  'lanka.'],\n",
       " ['en',\n",
       "  'av',\n",
       "  'de',\n",
       "  'personer',\n",
       "  'som',\n",
       "  'mycket',\n",
       "  'nyligen',\n",
       "  'mördades',\n",
       "  'i',\n",
       "  'sri',\n",
       "  'lanka',\n",
       "  'var',\n",
       "  'kumar',\n",
       "  'ponnambalam,',\n",
       "  'som',\n",
       "  'besökte',\n",
       "  'europaparlamentet',\n",
       "  'för',\n",
       "  'bara',\n",
       "  'några',\n",
       "  'månader',\n",
       "  'sedan.']]"
      ]
     },
     "execution_count": 8,
     "metadata": {},
     "output_type": "execute_result"
    }
   ],
   "source": [
    "sv_processed.take(10)"
   ]
  },
  {
   "cell_type": "code",
   "execution_count": 9,
   "id": "c36c4c5c-5313-4ff1-b5fc-a4a31c237ce7",
   "metadata": {},
   "outputs": [
    {
     "name": "stderr",
     "output_type": "stream",
     "text": [
      "                                                                                \r"
     ]
    }
   ],
   "source": [
    "# A.2.3\n",
    "eng_count = eng_processed.count()\n",
    "sv_count = sv_processed.count()"
   ]
  },
  {
   "cell_type": "code",
   "execution_count": 10,
   "id": "e5d1ade6-2081-47c7-8d55-4ce5bd46878c",
   "metadata": {},
   "outputs": [
    {
     "name": "stdout",
     "output_type": "stream",
     "text": [
      "ENG Count: 1862234\n",
      "SWE Count: 1862234\n",
      "Difference: 0\n"
     ]
    }
   ],
   "source": [
    "print(\"ENG Count: \" + str(eng_count))\n",
    "print(\"SWE Count: \" + str(sv_count))\n",
    "print(\"Difference: \" + str(eng_count - sv_count))"
   ]
  },
  {
   "cell_type": "code",
   "execution_count": 11,
   "id": "3b268de2-39d9-46d1-9b8d-2351c121d086",
   "metadata": {},
   "outputs": [],
   "source": [
    "# A.3.1\n",
    "def most_frequent(words):\n",
    "    flatten = words.flatMap(lambda word: word)\n",
    "    assign = flatten.map(lambda word: (word,1))\n",
    "    add = assign.reduceByKey(lambda x, y: x+y)\n",
    "    sort = add.map(lambda x: (x[1], x[0])).sortByKey(False)\n",
    "    return sort"
   ]
  },
  {
   "cell_type": "code",
   "execution_count": 12,
   "id": "f80349a7-e120-44ad-9c5d-5543f1d32638",
   "metadata": {},
   "outputs": [
    {
     "name": "stderr",
     "output_type": "stream",
     "text": [
      "                                                                                \r"
     ]
    }
   ],
   "source": [
    "eng_most_freq = most_frequent(eng_processed)\n",
    "sv_most_freq = most_frequent(sv_processed)"
   ]
  },
  {
   "cell_type": "code",
   "execution_count": 13,
   "id": "de92e4f5-1a48-4a5a-b5c8-aba7b4d8d503",
   "metadata": {},
   "outputs": [
    {
     "data": {
      "text/plain": [
       "[(3498375, 'the'),\n",
       " (1659758, 'of'),\n",
       " (1539760, 'to'),\n",
       " (1288401, 'and'),\n",
       " (1085993, 'in'),\n",
       " (797516, 'that'),\n",
       " (773522, 'a'),\n",
       " (758050, 'is'),\n",
       " (534242, 'for'),\n",
       " (522849, 'we')]"
      ]
     },
     "execution_count": 13,
     "metadata": {},
     "output_type": "execute_result"
    }
   ],
   "source": [
    "eng_most_freq.take(10)"
   ]
  },
  {
   "cell_type": "code",
   "execution_count": 14,
   "id": "7e9d0094-f655-434e-aed1-a4a4010edca6",
   "metadata": {},
   "outputs": [
    {
     "name": "stderr",
     "output_type": "stream",
     "text": [
      "                                                                                \r"
     ]
    },
    {
     "data": {
      "text/plain": [
       "[(1706293, 'att'),\n",
       " (1344830, 'och'),\n",
       " (1050774, 'i'),\n",
       " (924866, 'det'),\n",
       " (913276, 'som'),\n",
       " (908680, 'för'),\n",
       " (738068, 'av'),\n",
       " (694381, 'är'),\n",
       " (620310, 'en'),\n",
       " (539797, 'vi')]"
      ]
     },
     "execution_count": 14,
     "metadata": {},
     "output_type": "execute_result"
    }
   ],
   "source": [
    "sv_most_freq.take(10)"
   ]
  },
  {
   "cell_type": "code",
   "execution_count": 15,
   "id": "82f4e245-af1d-4302-ae2d-538ef4fe1937",
   "metadata": {},
   "outputs": [],
   "source": [
    "# A.3.2\n",
    "# The determined most frequent words in each language corpus are extremely common"
   ]
  },
  {
   "cell_type": "code",
   "execution_count": 16,
   "id": "0251e17a-f7f6-4bff-9564-06b1caabd63c",
   "metadata": {},
   "outputs": [
    {
     "name": "stderr",
     "output_type": "stream",
     "text": [
      "                                                                                \r"
     ]
    }
   ],
   "source": [
    "# A.4.1\n",
    "sv_1 = sv_processed.zipWithIndex()\n",
    "en_1 = eng_processed.zipWithIndex()"
   ]
  },
  {
   "cell_type": "code",
   "execution_count": 17,
   "id": "68fdf924-bf44-49ad-b292-34df1c558899",
   "metadata": {},
   "outputs": [],
   "source": [
    "sv_2 = sv_1.map(lambda x: (x[1], x[0]))\n",
    "en_2 = en_1.map(lambda x: (x[1], x[0]))"
   ]
  },
  {
   "cell_type": "code",
   "execution_count": 25,
   "id": "f1f345e3-d680-41a5-bc76-71006edc99b1",
   "metadata": {},
   "outputs": [],
   "source": [
    "# 3\n",
    "joined_3 = sv_2.join(en_2)"
   ]
  },
  {
   "cell_type": "code",
   "execution_count": 49,
   "id": "7a0a5620-5c18-4b8a-9227-ca311ddfcb07",
   "metadata": {},
   "outputs": [],
   "source": [
    "filter_4 = joined_3.filter(lambda x: x[1][0] != [] and x[1][1] != [])"
   ]
  },
  {
   "cell_type": "code",
   "execution_count": 50,
   "id": "0d289421-0ff3-446d-8612-4fb2913ef481",
   "metadata": {},
   "outputs": [],
   "source": [
    "filter_5 = filter_4.filter(lambda x: len(x[1][0]) <= 8)"
   ]
  },
  {
   "cell_type": "code",
   "execution_count": 51,
   "id": "6bbf8dc5-f08b-4c08-9633-d255e31d5c31",
   "metadata": {},
   "outputs": [],
   "source": [
    "filter_6 = filter_5.filter(lambda x: len(x[1][0]) == len(x[1][1]))"
   ]
  },
  {
   "cell_type": "code",
   "execution_count": 52,
   "id": "66613696-85b4-4081-bf7c-1146f499c767",
   "metadata": {},
   "outputs": [],
   "source": [
    "zip_7 = filter_6.flatMap(lambda x: zip(x[1][0], x[1][1]))"
   ]
  },
  {
   "cell_type": "code",
   "execution_count": 53,
   "id": "90afd207-7e9e-4a8b-bad5-004ad156fc37",
   "metadata": {},
   "outputs": [],
   "source": [
    "r = zip_7.map(lambda tup: (tup,1))\n",
    "reduce_8 = r.reduceByKey(lambda x, y: x+y)"
   ]
  },
  {
   "cell_type": "code",
   "execution_count": 54,
   "id": "73a538de-8d16-471f-84dc-b4fead88cb69",
   "metadata": {},
   "outputs": [
    {
     "name": "stderr",
     "output_type": "stream",
     "text": [
      "                                                                                \r"
     ]
    }
   ],
   "source": [
    "most_freq_9 = reduce_8.map(lambda x: (x[1], x[0])).sortByKey(False)"
   ]
  },
  {
   "cell_type": "code",
   "execution_count": 57,
   "id": "998cc8fd-001a-4abb-b641-aae97309fdd1",
   "metadata": {},
   "outputs": [
    {
     "data": {
      "text/plain": [
       "[(8820, ('är', 'is')),\n",
       " (4530, ('vi', 'we')),\n",
       " (3918, ('jag', 'i')),\n",
       " (2963, ('avslutad.', 'closed.')),\n",
       " (2714, ('detta', 'this')),\n",
       " (2567, ('det', 'that')),\n",
       " (2548, ('(applåder)', '(applause)')),\n",
       " (2351, ('det', 'it'))]"
      ]
     },
     "execution_count": 57,
     "metadata": {},
     "output_type": "execute_result"
    }
   ],
   "source": [
    "most_freq_9.take(8)"
   ]
  },
  {
   "cell_type": "code",
   "execution_count": null,
   "id": "a52f659d-d577-4a0d-ab8b-b3b2e7696085",
   "metadata": {},
   "outputs": [],
   "source": [
    "# The translations seems to be identical"
   ]
  }
 ],
 "metadata": {
  "kernelspec": {
   "display_name": "Python 3 (ipykernel)",
   "language": "python",
   "name": "python3"
  },
  "language_info": {
   "codemirror_mode": {
    "name": "ipython",
    "version": 3
   },
   "file_extension": ".py",
   "mimetype": "text/x-python",
   "name": "python",
   "nbconvert_exporter": "python",
   "pygments_lexer": "ipython3",
   "version": "3.8.10"
  }
 },
 "nbformat": 4,
 "nbformat_minor": 5
}
